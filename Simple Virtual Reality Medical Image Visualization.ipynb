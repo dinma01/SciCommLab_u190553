{
 "cells": [
  {
   "cell_type": "code",
   "execution_count": 1,
   "id": "4dab5a3d",
   "metadata": {},
   "outputs": [
    {
     "name": "stdout",
     "output_type": "stream",
     "text": [
      "Welcome to Virtual Reality Medical Image Visualization!\n",
      "Please enter the patient's name: Hi\n",
      "Please enter the type of medical image (MRI, CT scan, etc.): CT\n",
      "Generating virtual reality environment...\n",
      "Loading CT images for Hi...\n",
      "Performing visualization of CT images...\n",
      "Please put on your virtual reality headset and prepare to immerse yourself in the virtual world!\n",
      "To interact with the images, simply use hand gestures and movements in the virtual reality environment.\n",
      "Virtual reality visualization of CT images for Hi is complete.\n",
      "Thank you for using Virtual Reality Medical Image Visualization!\n"
     ]
    }
   ],
   "source": [
    "# Simple Virtual Reality Medical Image Visualization\n",
    "\n",
    "# Welcome message\n",
    "print(\"Welcome to Virtual Reality Medical Image Visualization!\")\n",
    "\n",
    "# Get user input\n",
    "patient_name = input(\"Please enter the patient's name: \")\n",
    "image_type = input(\"Please enter the type of medical image (MRI, CT scan, etc.): \")\n",
    "\n",
    "# Generate virtual reality environment\n",
    "print(\"Generating virtual reality environment...\")\n",
    "print(\"Loading \" + image_type + \" images for \" + patient_name + \"...\")\n",
    "\n",
    "# Perform visualization\n",
    "print(\"Performing visualization of \" + image_type + \" images...\")\n",
    "print(\"Please put on your virtual reality headset and prepare to immerse yourself in the virtual world!\")\n",
    "\n",
    "# Interaction instructions\n",
    "print(\"To interact with the images, simply use hand gestures and movements in the virtual reality environment.\")\n",
    "\n",
    "# Display results\n",
    "print(\"Virtual reality visualization of \" + image_type + \" images for \" + patient_name + \" is complete.\")\n",
    "print(\"Thank you for using Virtual Reality Medical Image Visualization!\")\n"
   ]
  }
 ],
 "metadata": {
  "kernelspec": {
   "display_name": "Python 3 (ipykernel)",
   "language": "python",
   "name": "python3"
  },
  "language_info": {
   "codemirror_mode": {
    "name": "ipython",
    "version": 3
   },
   "file_extension": ".py",
   "mimetype": "text/x-python",
   "name": "python",
   "nbconvert_exporter": "python",
   "pygments_lexer": "ipython3",
   "version": "3.9.12"
  }
 },
 "nbformat": 4,
 "nbformat_minor": 5
}
